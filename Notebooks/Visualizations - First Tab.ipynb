{
 "cells": [
  {
   "cell_type": "code",
   "execution_count": 4,
   "metadata": {},
   "outputs": [],
   "source": [
    "import pandas as pd \n",
    "import folium\n",
    "from folium.plugins import HeatMap"
   ]
  },
  {
   "cell_type": "code",
   "execution_count": 2,
   "metadata": {},
   "outputs": [],
   "source": [
    "# read Data for First Tab.csv into df\n",
    "# df = pd.read_csv('Data for First Tab.csv')\n",
    "df = pd.read_csv('../Datas/data_for_first_tab.csv')"
   ]
  },
  {
   "cell_type": "markdown",
   "metadata": {},
   "source": [
    "# Create Visualizations For First Tab."
   ]
  },
  {
   "cell_type": "code",
   "execution_count": 5,
   "metadata": {},
   "outputs": [],
   "source": [
    "zoom_level = 5 # Increased zoom level\n",
    "\n",
    " # Function to create a general map with heatmap layer\n",
    "def create_general_map(data, field_name, field_label):\n",
    "    # Compute the center of the map based on mean latitude and longitude\n",
    "    map_center = [data['LAT'].mean(), data['LNG'].mean() - 5]  # Adjust the longitude shift here\n",
    "\n",
    "    # Create the base map\n",
    "    m = folium.Map(location=map_center, zoom_start=zoom_level)\n",
    "\n",
    "    # Filter out rows with NaN values in the specific field\n",
    "    data = data.dropna(subset=[field_name])\n",
    "\n",
    "    # Add heatmap layer to the map if there is data\n",
    "    if not data.empty:\n",
    "        heatmap_data = list(zip(data['LAT'], data['LNG'], data[field_name]))\n",
    "        heatmap_layer = HeatMap(heatmap_data, name=f'{field_label} Heatmap')\n",
    "        heatmap_layer.add_to(m)\n",
    "\n",
    "        # Add tile layers\n",
    "        folium.TileLayer('Stamen Water Color').add_to(m)\n",
    "        folium.TileLayer('openstreetmap').add_to(m)\n",
    "        folium.TileLayer('Stamen Terrain').add_to(m)\n",
    "        folium.TileLayer('Stamen Toner').add_to(m)\n",
    "        folium.TileLayer('cartodbpositron').add_to(m)\n",
    "        folium.TileLayer('cartodbdark_matter').add_to(m)\n",
    "\n",
    "        # Add layer control to toggle heatmap and tile layers\n",
    "        folium.LayerControl(collapsed=True).add_to(m)\n",
    "\n",
    "    return m\n",
    "\n",
    "# Define parameters\n",
    "fields = [\n",
    "    {'name': 'new_listings', 'label': 'New Listings'},\n",
    "    {'name': 'homes_sold', 'label': 'Homes Sold'},\n",
    "    {'name': 'off_market_in_two_weeks', 'label': 'Off Market in Two Weeks'},\n",
    "    {'name': 'median_sale_price', 'label': 'Median Sale Price'},\n",
    "    {'name': 'median_dom', 'label': 'Median Days on Market'},\n",
    "    {'name': 'months_of_supply', 'label': 'Months of Supply'}\n",
    "]\n",
    "\n",
    "# Create maps for each field\n",
    "field_maps = {}\n",
    "for field in fields:\n",
    "    field_map = create_general_map(df, field['name'], field['label'])\n",
    "    field_maps[field['name']] = field_map\n",
    "\n",
    "# Save maps as HTML files\n",
    "for field_name, field_map in field_maps.items():\n",
    "    field_map.save(f\"../Maps/General/general_{field_name}_map.html\")"
   ]
  }
 ],
 "metadata": {
  "kernelspec": {
   "display_name": "base",
   "language": "python",
   "name": "python3"
  },
  "language_info": {
   "codemirror_mode": {
    "name": "ipython",
    "version": 3
   },
   "file_extension": ".py",
   "mimetype": "text/x-python",
   "name": "python",
   "nbconvert_exporter": "python",
   "pygments_lexer": "ipython3",
   "version": "3.11.1"
  },
  "orig_nbformat": 4
 },
 "nbformat": 4,
 "nbformat_minor": 2
}
